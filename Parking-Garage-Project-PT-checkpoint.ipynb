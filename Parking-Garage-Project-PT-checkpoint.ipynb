{
 "cells": [
  {
   "cell_type": "markdown",
   "source": [
    "# Parking Garage Project\n",
    "\n",
    "Your assignment for today is to create a parking garage class to get more familiar with Object Oriented Programming(OOP). \n",
    "\n",
    "Your parking gargage class should have the following methods:\n",
    "- takeTicket\n",
    "   - This should decrease the amount of tickets available by 1\n",
    "   - This should decrease the amount of parkingSpaces available by 1\n",
    "- payForParking\n",
    "   - Display an input that waits for an amount from the user and store it in a variable\n",
    "   - If the payment variable is not empty then ->  display a message to the user that their ticket has been paid and they have 15mins to leave\n",
    "   - This should update the \"currentTicket\" dictionary key \"paid\" to True\n",
    "- leaveGarage\n",
    "   - If the ticket has been paid, display a message of \"Thank You, have a nice day\"\n",
    "   - If the ticket has not been paid, display an input prompt for payment\n",
    "      - Once paid, display message \"Thank you, have a nice day!\"\n",
    "   - Update parkingSpaces list to increase by 1\n",
    "   - Update tickets list to increase by 1\n",
    "\n",
    "You will need a few attributes as well:\n",
    "- tickets -> list\n",
    "- parkingSpaces -> list\n",
    "- currentTicket -> dictionary"
   ],
   "metadata": {}
  },
  {
   "cell_type": "code",
   "execution_count": null,
   "source": [
    "#Start your code here...\r\n",
    "class ParkingGarage():\r\n",
    "        \r\n",
    "    def __init__(self,capacity):\r\n",
    "        self.available_space = capacity\r\n",
    "        self.tickets = [i for i in range (1, capacity+1)] # number on the ticket will be the parking spot number (automatically assign an available parking space)\r\n",
    "        self.current_ticket = {'paid': False}\r\n",
    "\r\n",
    "    def take_ticket(self):\r\n",
    "        if self.available_spaces == 0:\r\n",
    "            return \"The parking lot is full. Please come back later.\"\r\n",
    "        self.available_spaces -=1\r\n",
    "        self.current_ticket.update({'number': self.tickets.pop(min(self.tickets))}) # assign the available closest spot for clients\r\n",
    "\r\n",
    "    def pay_for_parking(self):\r\n",
    "        payment = input(\"Please enter the ammount of your payment: \")\r\n",
    "        if payment is not None:\r\n",
    "            print('Thank you! Your ticket has been paid. You have 15 mins to leave!')\r\n",
    "            self.current_ticket['paid'] = True\r\n",
    "\r\n",
    "\r\n",
    "    def leave_garage(self):\r\n",
    "        if self.current_ticket['paid'] == True:\r\n",
    "            print('Thank you! Have a nice day!')\r\n",
    "        else:\r\n",
    "            print('Please pay for your ticket before leaving!')\r\n",
    "            self.pay_for_parking()\r\n",
    "            print('Thank you! Have a nice day!')\r\n",
    "            self.available_spaces +=1\r\n",
    "            self.tickets.append(int(self.current_ticket['number']))"
   ],
   "outputs": [],
   "metadata": {}
  }
 ],
 "metadata": {
  "kernelspec": {
   "display_name": "Python 3",
   "language": "python",
   "name": "python3"
  },
  "language_info": {
   "codemirror_mode": {
    "name": "ipython",
    "version": 3
   },
   "file_extension": ".py",
   "mimetype": "text/x-python",
   "name": "python",
   "nbconvert_exporter": "python",
   "pygments_lexer": "ipython3",
   "version": "3.8.8"
  }
 },
 "nbformat": 4,
 "nbformat_minor": 2
}