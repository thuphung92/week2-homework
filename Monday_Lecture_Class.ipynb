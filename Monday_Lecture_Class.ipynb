{
 "cells": [
  {
   "cell_type": "markdown",
   "metadata": {},
   "source": [
    "# Week 2 - Monday Lesson (variable assignment, loops, lists)"
   ]
  },
  {
   "cell_type": "markdown",
   "metadata": {},
   "source": [
    "## Tasks Today:\n",
    "\n",
    "1) Int & Float assignments <br>\n",
    " &nbsp;&nbsp;&nbsp;&nbsp; a) Assigning int <br>\n",
    " &nbsp;&nbsp;&nbsp;&nbsp; b) Assigning float <br>\n",
    " &nbsp;&nbsp;&nbsp;&nbsp; c) Performing Calculations on ints and floats <br>\n",
    " &nbsp;&nbsp;&nbsp;&nbsp;&nbsp;&nbsp;&nbsp;&nbsp; - Addition <br>\n",
    " &nbsp;&nbsp;&nbsp;&nbsp;&nbsp;&nbsp;&nbsp;&nbsp; - Subtraction <br>\n",
    " &nbsp;&nbsp;&nbsp;&nbsp;&nbsp;&nbsp;&nbsp;&nbsp; - Multiplication <br>\n",
    " &nbsp;&nbsp;&nbsp;&nbsp;&nbsp;&nbsp;&nbsp;&nbsp; - Division <br>\n",
    " &nbsp;&nbsp;&nbsp;&nbsp;&nbsp;&nbsp;&nbsp;&nbsp; - Floor Division <br>\n",
    " &nbsp;&nbsp;&nbsp;&nbsp;&nbsp;&nbsp;&nbsp;&nbsp; - Modulo <br>\n",
    " &nbsp;&nbsp;&nbsp;&nbsp;&nbsp;&nbsp;&nbsp;&nbsp; - Exponential <br>\n",
    "2) String Input-Output <br>\n",
    " &nbsp;&nbsp;&nbsp;&nbsp; a) String Assignment <br>\n",
    " &nbsp;&nbsp;&nbsp;&nbsp; b) print() <br>\n",
    " &nbsp;&nbsp;&nbsp;&nbsp; c) String Concatenation <br>\n",
    " &nbsp;&nbsp;&nbsp;&nbsp; d) Type Conversion <br>\n",
    " &nbsp;&nbsp;&nbsp;&nbsp; e) input() <br>\n",
    " &nbsp;&nbsp;&nbsp;&nbsp; f) format() <br>\n",
    " &nbsp;&nbsp;&nbsp;&nbsp; g) Old Way (python 2) <br>\n",
    "3) <b>In-Class Exercise #1</b> <br>\n",
    "4) If Statements <br>\n",
    " &nbsp;&nbsp;&nbsp;&nbsp; a) 'is' keyword <br>\n",
    " &nbsp;&nbsp;&nbsp;&nbsp; b) 'in' keyword <br>\n",
    " &nbsp;&nbsp;&nbsp;&nbsp; c) 'not in' keyword <br>\n",
    "5) <b>In-Class Exercise #2</b> <br>\n",
    "6) Elif Statements <br>\n",
    "7) Else Statements <br>\n",
    "8) <b>In-Class Exercise #3</b> <br>\n",
    "9) For Loops <br>\n",
    " &nbsp;&nbsp;&nbsp;&nbsp; a) Using 'in' keyword <br>\n",
    " &nbsp;&nbsp;&nbsp;&nbsp; b) Continue Statement <br>\n",
    " &nbsp;&nbsp;&nbsp;&nbsp; c) Break Statement <br>\n",
    " &nbsp;&nbsp;&nbsp;&nbsp; d) Pass Statement <br>\n",
    " &nbsp;&nbsp;&nbsp;&nbsp; e) Double For Loops <br>\n",
    "10) While Loops <br>\n",
    " &nbsp;&nbsp;&nbsp;&nbsp; a) Looping 'While True' <br>\n",
    " &nbsp;&nbsp;&nbsp;&nbsp; b) While and For Loops Used Together <br>\n",
    "11) Built-In Functions <br>\n",
    " &nbsp;&nbsp;&nbsp;&nbsp; a) range() <br>\n",
    " &nbsp;&nbsp;&nbsp;&nbsp; b) len() <br>\n",
    " &nbsp;&nbsp;&nbsp;&nbsp; c) help() <br>\n",
    " &nbsp;&nbsp;&nbsp;&nbsp; d) isinstance() <br>\n",
    " &nbsp;&nbsp;&nbsp;&nbsp; e) abs() <br>\n",
    "12) Try and Except <br>\n",
    "13) Lists <br>\n",
    " &nbsp;&nbsp;&nbsp;&nbsp; a) Declaring Lists <br>\n",
    " &nbsp;&nbsp;&nbsp;&nbsp; b) Indexing a List <br>\n",
    " &nbsp;&nbsp;&nbsp;&nbsp; c) .append() <br>\n",
    " &nbsp;&nbsp;&nbsp;&nbsp; d) .insert() <br>\n",
    " &nbsp;&nbsp;&nbsp;&nbsp; e) .pop() <br>\n",
    " &nbsp;&nbsp;&nbsp;&nbsp; f) .remove() <br>\n",
    " &nbsp;&nbsp;&nbsp;&nbsp; g) del() <br>\n",
    " &nbsp;&nbsp;&nbsp;&nbsp; h) Concatenating Two Lists <br>\n",
    " &nbsp;&nbsp;&nbsp;&nbsp; i) Lists Within Lists <br>\n",
    " &nbsp;&nbsp;&nbsp;&nbsp; j) Looping Through Lists <br>"
   ]
  },
  {
   "cell_type": "markdown",
   "metadata": {},
   "source": [
    "### Int & Float Assignments"
   ]
  },
  {
   "cell_type": "markdown",
   "metadata": {},
   "source": [
    "##### Assigning int"
   ]
  },
  {
   "cell_type": "code",
   "execution_count": 2,
   "metadata": {},
   "outputs": [
    {
     "name": "stdout",
     "output_type": "stream",
     "text": [
      "6\n"
     ]
    }
   ],
   "source": [
    "number = 6\n",
    "\n",
    "print(number)"
   ]
  },
  {
   "cell_type": "markdown",
   "metadata": {},
   "source": [
    "##### Assinging float"
   ]
  },
  {
   "cell_type": "code",
   "execution_count": 6,
   "metadata": {},
   "outputs": [
    {
     "name": "stdout",
     "output_type": "stream",
     "text": [
      "2.3\n",
      "4.3\n"
     ]
    }
   ],
   "source": [
    "numberFloat = 2.3\n",
    "\n",
    "print(numberFloat)\n",
    "\n",
    "#OR\n",
    "\n",
    "number_float = 4.3\n",
    "print(number_float)\n",
    "\n",
    "# DON'T DO THIS THOUGH...\n",
    "\n",
    "# number-float = 4.6\n",
    "# print(number-float)"
   ]
  },
  {
   "cell_type": "markdown",
   "metadata": {},
   "source": [
    "#### Performing Calculations on ints and floats"
   ]
  },
  {
   "cell_type": "markdown",
   "metadata": {},
   "source": [
    "##### Addition"
   ]
  },
  {
   "cell_type": "code",
   "execution_count": 15,
   "metadata": {},
   "outputs": [
    {
     "name": "stdout",
     "output_type": "stream",
     "text": [
      "7.7\n",
      "9.7\n"
     ]
    }
   ],
   "source": [
    "num1 = 2\n",
    "num2 = 5.7\n",
    "\n",
    "result = num1 + num2\n",
    "print(result)\n",
    "\n",
    "result += 2\n",
    "# result = result + 2\n",
    "print(result)"
   ]
  },
  {
   "cell_type": "markdown",
   "metadata": {},
   "source": [
    "##### Subtraction"
   ]
  },
  {
   "cell_type": "code",
   "execution_count": 17,
   "metadata": {},
   "outputs": [
    {
     "name": "stdout",
     "output_type": "stream",
     "text": [
      "3.7\n",
      "1.7000000000000002\n"
     ]
    }
   ],
   "source": [
    "result_diff = num2 - num1\n",
    "print(result_diff)\n",
    "\n",
    "result_diff -= 2\n",
    "print(result_diff)"
   ]
  },
  {
   "cell_type": "markdown",
   "metadata": {},
   "source": [
    "##### Multiplication"
   ]
  },
  {
   "cell_type": "code",
   "execution_count": 20,
   "metadata": {},
   "outputs": [
    {
     "name": "stdout",
     "output_type": "stream",
     "text": [
      "50\n",
      "100\n"
     ]
    }
   ],
   "source": [
    "num3 = 5\n",
    "num4 = 10\n",
    "\n",
    "result_prod = num3 * num4\n",
    "print(result_prod)\n",
    "\n",
    "result_prod *= 2\n",
    "# result_prod = result_prod * 2\n",
    "print(result_prod)"
   ]
  },
  {
   "cell_type": "markdown",
   "metadata": {},
   "source": [
    "##### Division"
   ]
  },
  {
   "cell_type": "code",
   "execution_count": 25,
   "metadata": {},
   "outputs": [
    {
     "name": "stdout",
     "output_type": "stream",
     "text": [
      "2.0\n",
      "1.0\n"
     ]
    }
   ],
   "source": [
    "result_div = num4 / num3\n",
    "\n",
    "print(result_div)\n",
    "result_div /= 2\n",
    "print(result_div)"
   ]
  },
  {
   "cell_type": "markdown",
   "metadata": {},
   "source": [
    "##### Floor Division"
   ]
  },
  {
   "cell_type": "code",
   "execution_count": 29,
   "metadata": {},
   "outputs": [
    {
     "name": "stdout",
     "output_type": "stream",
     "text": [
      "2\n"
     ]
    },
    {
     "data": {
      "text/plain": [
       "2"
      ]
     },
     "execution_count": 29,
     "metadata": {},
     "output_type": "execute_result"
    }
   ],
   "source": [
    "result_floor = 5 // 2\n",
    "print(result_floor)\n",
    "\n",
    "my_list = [1,2,3,4,5]\n",
    "\n",
    "middle_index = len(my_list) // 2\n",
    "middle_index"
   ]
  },
  {
   "cell_type": "markdown",
   "metadata": {},
   "source": [
    "##### Modulo"
   ]
  },
  {
   "cell_type": "code",
   "execution_count": 31,
   "metadata": {},
   "outputs": [
    {
     "name": "stdout",
     "output_type": "stream",
     "text": [
      "1\n",
      "odd\n"
     ]
    }
   ],
   "source": [
    "result_mod = 5 % 2\n",
    "print(result_mod)\n",
    "\n",
    "num = 7\n",
    "if num % 2 == 0:\n",
    "    print('even')\n",
    "else:\n",
    "    print('odd')"
   ]
  },
  {
   "cell_type": "markdown",
   "metadata": {},
   "source": [
    "##### Exponential"
   ]
  },
  {
   "cell_type": "code",
   "execution_count": 32,
   "metadata": {},
   "outputs": [
    {
     "name": "stdout",
     "output_type": "stream",
     "text": [
      "25\n"
     ]
    }
   ],
   "source": [
    "square = 5 ** 2\n",
    "# 5^2\n",
    "print(square)"
   ]
  },
  {
   "cell_type": "markdown",
   "metadata": {},
   "source": [
    "### String Input-Output"
   ]
  },
  {
   "cell_type": "markdown",
   "metadata": {},
   "source": [
    "##### String Assignment"
   ]
  },
  {
   "cell_type": "code",
   "execution_count": 33,
   "metadata": {},
   "outputs": [
    {
     "name": "stdout",
     "output_type": "stream",
     "text": [
      "Nate\n"
     ]
    }
   ],
   "source": [
    "name = \"Nate\"\n",
    "print(name)"
   ]
  },
  {
   "cell_type": "markdown",
   "metadata": {},
   "source": [
    "##### print() <br>\n",
    "<p>Don't forget about end=' '</p>"
   ]
  },
  {
   "cell_type": "code",
   "execution_count": 43,
   "metadata": {},
   "outputs": [
    {
     "name": "stdout",
     "output_type": "stream",
     "text": [
      "This is my first name: Nate\n",
      "Full Name: Nate Welter"
     ]
    }
   ],
   "source": [
    "print(\"This is my first name:\",name)\n",
    "\n",
    "print(\"Full Name:\", name, end=\" Welter\")"
   ]
  },
  {
   "cell_type": "markdown",
   "metadata": {},
   "source": [
    "##### String Concatenation"
   ]
  },
  {
   "cell_type": "code",
   "execution_count": 45,
   "metadata": {},
   "outputs": [
    {
     "name": "stdout",
     "output_type": "stream",
     "text": [
      "Nate Welter\n"
     ]
    }
   ],
   "source": [
    "first = \"Nate\"\n",
    "last = \"Welter\"\n",
    "\n",
    "full_name = first + \" \" + last\n",
    "print(full_name)"
   ]
  },
  {
   "cell_type": "markdown",
   "metadata": {},
   "source": [
    "##### Type Conversion"
   ]
  },
  {
   "cell_type": "code",
   "execution_count": 54,
   "metadata": {},
   "outputs": [
    {
     "name": "stdout",
     "output_type": "stream",
     "text": [
      "<class 'int'>\n",
      "<class 'str'>\n"
     ]
    }
   ],
   "source": [
    "num = \"32\"\n",
    "\n",
    "change_type = int(num)\n",
    "print(type(change_type))\n",
    "\n",
    "print(type(num))\n",
    "\n",
    "# DON'T DO THIS\n",
    "\n",
    "# num_str = \"three\"\n",
    "\n",
    "# num_to_int = int(num_str)\n",
    "# print(num_to_int)"
   ]
  },
  {
   "cell_type": "markdown",
   "metadata": {},
   "source": [
    "##### input()"
   ]
  },
  {
   "cell_type": "code",
   "execution_count": 61,
   "metadata": {},
   "outputs": [
    {
     "name": "stdout",
     "output_type": "stream",
     "text": [
      "What is your age?: 27\n",
      "27\n",
      "<class 'int'>\n"
     ]
    }
   ],
   "source": [
    "# Auto default to type of string\n",
    "age = int(input(\"What is your age?: \"))\n",
    "\n",
    "print(age)\n",
    "print(type(age))"
   ]
  },
  {
   "cell_type": "markdown",
   "metadata": {},
   "source": [
    "##### format()"
   ]
  },
  {
   "cell_type": "code",
   "execution_count": 65,
   "metadata": {},
   "outputs": [
    {
     "name": "stdout",
     "output_type": "stream",
     "text": [
      "What is your age?27\n",
      "You are 27 years old and you are getting wiser!\n",
      "27 is a great time in life\n"
     ]
    }
   ],
   "source": [
    "age = input(\"What is your age?\")\n",
    "\n",
    "result_string = 'You are {} years old and you are getting wiser!'.format(age)\n",
    "print(result_string)\n",
    "\n",
    "result_str = f'{age} is a great time in life'\n",
    "print(result_str)"
   ]
  },
  {
   "cell_type": "markdown",
   "metadata": {},
   "source": [
    "##### Old Way (python 2)"
   ]
  },
  {
   "cell_type": "code",
   "execution_count": 66,
   "metadata": {},
   "outputs": [
    {
     "name": "stdout",
     "output_type": "stream",
     "text": [
      "You are 27 and you look great for your age!\n"
     ]
    }
   ],
   "source": [
    "result_str2 = 'You are %s and you look great for your age!' %age\n",
    "print(result_str2)"
   ]
  },
  {
   "cell_type": "markdown",
   "metadata": {},
   "source": [
    "# In-Class Exercise 1 <br>\n",
    "<p>Create a format statement that asks for color, year, make, model and prints out the results</p>"
   ]
  },
  {
   "cell_type": "code",
   "execution_count": 69,
   "metadata": {},
   "outputs": [
    {
     "name": "stdout",
     "output_type": "stream",
     "text": [
      "What color is your car?white\n",
      "What year is your car?2020\n",
      "What make is your car?bmw\n",
      "What model is your car?M5\n",
      "You drive a 2020 bmw M5 that is painted white!\n"
     ]
    }
   ],
   "source": [
    "# You have a 2019 Subaru Impreza that is painted Grey\n",
    "color = input(\"What color is your car?\")\n",
    "year = input(\"What year is your car?\")\n",
    "make = input(\"What make is your car?\")\n",
    "model = input(\"What model is your car?\")\n",
    "\n",
    "car_result = f'You drive a {year} {make} {model} that is painted {color}!'\n",
    "print(car_result)"
   ]
  },
  {
   "cell_type": "markdown",
   "metadata": {},
   "source": [
    "### If Statements"
   ]
  },
  {
   "cell_type": "code",
   "execution_count": 73,
   "metadata": {},
   "outputs": [
    {
     "name": "stdout",
     "output_type": "stream",
     "text": [
      "Not Equal\n",
      "num1 is less\n",
      "nothing\n",
      "something\n"
     ]
    }
   ],
   "source": [
    "# Available operators Greater than (>), Less Than (<), Equal (==)\n",
    "# Greater or Equal (>=), Less than or Equal (<=)\n",
    "\n",
    "#Truth Tree:\n",
    "# T && T = T\n",
    "# T && F = F\n",
    "# T || F = T\n",
    "# F || T = T\n",
    "# F || F = F\n",
    "\n",
    "\n",
    "num1 = 5\n",
    "num2 = 10\n",
    "\n",
    "if num1 == num2:\n",
    "    print(\"Equal\")\n",
    "else:\n",
    "    print(\"Not Equal\")\n",
    "    \n",
    "if num1 >= num2:\n",
    "    print(\"num1 is greater\")\n",
    "elif num1 <= num2:\n",
    "    print('num1 is less')\n",
    "else:\n",
    "    print('nada')\n",
    "\n",
    "# T && F = F\n",
    "if num1 == 5 and num2 > 12:\n",
    "    print('something')\n",
    "else:\n",
    "    print('nothing')\n",
    "\n",
    "# T || F = T\n",
    "if num1 == 5 or num2 > 12:\n",
    "    print('something')\n",
    "else:\n",
    "    print('nothing')    "
   ]
  },
  {
   "cell_type": "markdown",
   "metadata": {},
   "source": [
    "##### 'is' keyword"
   ]
  },
  {
   "cell_type": "code",
   "execution_count": 75,
   "metadata": {
    "scrolled": true
   },
   "outputs": [],
   "source": [
    "# use the \"is\" keyword when checking for a similar/same object, NOT necessarily the same value\n",
    "\n",
    "num3 = 55\n",
    "\n",
    "if num3 is 55:\n",
    "    print(\"This is the exact object\")"
   ]
  },
  {
   "cell_type": "markdown",
   "metadata": {},
   "source": [
    "##### 'in' keyword"
   ]
  },
  {
   "cell_type": "code",
   "execution_count": 76,
   "metadata": {},
   "outputs": [
    {
     "name": "stdout",
     "output_type": "stream",
     "text": [
      "The character who lost everything...\n"
     ]
    }
   ],
   "source": [
    "#Check if char is in a name\n",
    "\n",
    "char_name = \"Max Payne\"\n",
    "\n",
    "if \"Max\" in char_name:\n",
    "    print(\"The character who lost everything...\")"
   ]
  },
  {
   "cell_type": "markdown",
   "metadata": {},
   "source": [
    "##### 'not in' keyword'"
   ]
  },
  {
   "cell_type": "code",
   "execution_count": 77,
   "metadata": {},
   "outputs": [
    {
     "name": "stdout",
     "output_type": "stream",
     "text": [
      "a is NOT in here....\n"
     ]
    }
   ],
   "source": [
    "sega_char = \"Sonic\"\n",
    "if 'a' not in sega_char:\n",
    "    print(\"a is NOT in here....\")"
   ]
  },
  {
   "cell_type": "markdown",
   "metadata": {},
   "source": [
    "# In-Class Exercise 2 <br>\n",
    "<p>Ask user for input, check to see if the letter 'p' is in the input</p>"
   ]
  },
  {
   "cell_type": "code",
   "execution_count": 78,
   "metadata": {},
   "outputs": [
    {
     "name": "stdout",
     "output_type": "stream",
     "text": [
      "what is your name?patricia\n",
      "True\n"
     ]
    }
   ],
   "source": [
    "name = input(\"what is your name?\")\n",
    "\n",
    "if \"p\" in name:\n",
    "    print(True)"
   ]
  },
  {
   "cell_type": "markdown",
   "metadata": {},
   "source": [
    "## Using 'and'/'or' with If Statements"
   ]
  },
  {
   "cell_type": "code",
   "execution_count": null,
   "metadata": {},
   "outputs": [],
   "source": [
    "# SEE ABOVE"
   ]
  },
  {
   "cell_type": "markdown",
   "metadata": {},
   "source": [
    "### Elif Statements"
   ]
  },
  {
   "cell_type": "code",
   "execution_count": null,
   "metadata": {},
   "outputs": [],
   "source": [
    "# SEE ABOVE"
   ]
  },
  {
   "cell_type": "markdown",
   "metadata": {},
   "source": [
    "### Else Statements"
   ]
  },
  {
   "cell_type": "code",
   "execution_count": null,
   "metadata": {},
   "outputs": [],
   "source": [
    "# SEE ABOVE"
   ]
  },
  {
   "cell_type": "markdown",
   "metadata": {},
   "source": [
    "### For Loops"
   ]
  },
  {
   "cell_type": "code",
   "execution_count": 80,
   "metadata": {},
   "outputs": [
    {
     "name": "stdout",
     "output_type": "stream",
     "text": [
      "0\n",
      "1\n",
      "2\n",
      "3\n",
      "4\n",
      "5\n",
      "6\n",
      "7\n",
      "8\n",
      "9\n",
      "N\n",
      "a\n",
      "t\n",
      "e\n",
      " \n",
      "W\n",
      "e\n",
      "l\n",
      "t\n",
      "e\n",
      "r\n"
     ]
    }
   ],
   "source": [
    "# for keyword, counter, in keyword, condition\n",
    "\n",
    "for i in range(10):\n",
    "    print(i)\n",
    "\n",
    "name = \"Nate Welter\"\n",
    "\n",
    "for i in name:\n",
    "    print(i)"
   ]
  },
  {
   "cell_type": "markdown",
   "metadata": {},
   "source": [
    "##### Using 'in' keyword"
   ]
  },
  {
   "cell_type": "code",
   "execution_count": null,
   "metadata": {},
   "outputs": [],
   "source": [
    "# in is explained above"
   ]
  },
  {
   "cell_type": "markdown",
   "metadata": {},
   "source": [
    "##### Continue Statement"
   ]
  },
  {
   "cell_type": "code",
   "execution_count": 2,
   "metadata": {},
   "outputs": [],
   "source": [
    "# Will continue to the next iteration"
   ]
  },
  {
   "cell_type": "code",
   "execution_count": 81,
   "metadata": {},
   "outputs": [
    {
     "name": "stdout",
     "output_type": "stream",
     "text": [
      "0\n",
      "1\n",
      "2\n",
      "3\n",
      "4\n",
      "6\n",
      "7\n",
      "8\n",
      "9\n",
      "10\n",
      "11\n",
      "12\n",
      "13\n",
      "14\n",
      "15\n",
      "16\n",
      "17\n",
      "18\n",
      "19\n"
     ]
    }
   ],
   "source": [
    "for i in range(20):\n",
    "    if i == 5:\n",
    "        continue\n",
    "    print(i)"
   ]
  },
  {
   "cell_type": "markdown",
   "metadata": {},
   "source": [
    "##### Break Statement"
   ]
  },
  {
   "cell_type": "code",
   "execution_count": 3,
   "metadata": {},
   "outputs": [],
   "source": [
    "# will break out of current loop"
   ]
  },
  {
   "cell_type": "code",
   "execution_count": 82,
   "metadata": {},
   "outputs": [
    {
     "name": "stdout",
     "output_type": "stream",
     "text": [
      "0\n",
      "1\n",
      "2\n",
      "3\n",
      "4\n"
     ]
    }
   ],
   "source": [
    "for i in range(20):\n",
    "    if i == 5:\n",
    "        break\n",
    "    print(i)"
   ]
  },
  {
   "cell_type": "markdown",
   "metadata": {},
   "source": [
    "##### Pass Statement"
   ]
  },
  {
   "cell_type": "code",
   "execution_count": 4,
   "metadata": {},
   "outputs": [],
   "source": [
    "# mostly used as a placeholder, and will continue on same iteration"
   ]
  },
  {
   "cell_type": "code",
   "execution_count": 88,
   "metadata": {},
   "outputs": [],
   "source": [
    "for i in range(20):\n",
    "    pass\n",
    "\n",
    "def func():\n",
    "    pass"
   ]
  },
  {
   "cell_type": "markdown",
   "metadata": {},
   "source": [
    "##### Double For Loops"
   ]
  },
  {
   "cell_type": "code",
   "execution_count": 91,
   "metadata": {},
   "outputs": [
    {
     "name": "stdout",
     "output_type": "stream",
     "text": [
      "i = 0, j = 0\n",
      "i = 0, j = 1\n",
      "i = 0, j = 2\n",
      "i = 0, j = 3\n",
      "i = 0, j = 4\n",
      "i = 1, j = 0\n",
      "i = 1, j = 1\n",
      "i = 1, j = 2\n",
      "i = 1, j = 3\n",
      "i = 1, j = 4\n",
      "i = 2, j = 0\n",
      "i = 2, j = 1\n",
      "i = 2, j = 2\n",
      "i = 2, j = 3\n",
      "i = 2, j = 4\n",
      "i = 3, j = 0\n",
      "i = 3, j = 1\n",
      "i = 3, j = 2\n",
      "i = 3, j = 3\n",
      "i = 3, j = 4\n",
      "i = 4, j = 0\n",
      "i = 4, j = 1\n",
      "i = 4, j = 2\n",
      "i = 4, j = 3\n",
      "i = 4, j = 4\n",
      "i = 5, j = 0\n",
      "i = 5, j = 1\n",
      "i = 5, j = 2\n",
      "i = 5, j = 3\n",
      "i = 5, j = 4\n",
      "i = 6, j = 0\n",
      "i = 6, j = 1\n",
      "i = 6, j = 2\n",
      "i = 6, j = 3\n",
      "i = 6, j = 4\n",
      "i = 7, j = 0\n",
      "i = 7, j = 1\n",
      "i = 7, j = 2\n",
      "i = 7, j = 3\n",
      "i = 7, j = 4\n",
      "i = 8, j = 0\n",
      "i = 8, j = 1\n",
      "i = 8, j = 2\n",
      "i = 8, j = 3\n",
      "i = 8, j = 4\n",
      "i = 9, j = 0\n",
      "i = 9, j = 1\n",
      "i = 9, j = 2\n",
      "i = 9, j = 3\n",
      "i = 9, j = 4\n",
      "i = 10, j = 0\n",
      "i = 10, j = 1\n",
      "i = 10, j = 2\n",
      "i = 10, j = 3\n",
      "i = 10, j = 4\n",
      "i = 11, j = 0\n",
      "i = 11, j = 1\n",
      "i = 11, j = 2\n",
      "i = 11, j = 3\n",
      "i = 11, j = 4\n",
      "i = 12, j = 0\n",
      "i = 12, j = 1\n",
      "i = 12, j = 2\n",
      "i = 12, j = 3\n",
      "i = 12, j = 4\n",
      "i = 13, j = 0\n",
      "i = 13, j = 1\n",
      "i = 13, j = 2\n",
      "i = 13, j = 3\n",
      "i = 13, j = 4\n",
      "i = 14, j = 0\n",
      "i = 14, j = 1\n",
      "i = 14, j = 2\n",
      "i = 14, j = 3\n",
      "i = 14, j = 4\n",
      "i = 15, j = 0\n",
      "i = 15, j = 1\n",
      "i = 15, j = 2\n",
      "i = 15, j = 3\n",
      "i = 15, j = 4\n",
      "i = 16, j = 0\n",
      "i = 16, j = 1\n",
      "i = 16, j = 2\n",
      "i = 16, j = 3\n",
      "i = 16, j = 4\n",
      "i = 17, j = 0\n",
      "i = 17, j = 1\n",
      "i = 17, j = 2\n",
      "i = 17, j = 3\n",
      "i = 17, j = 4\n",
      "i = 18, j = 0\n",
      "i = 18, j = 1\n",
      "i = 18, j = 2\n",
      "i = 18, j = 3\n",
      "i = 18, j = 4\n",
      "i = 19, j = 0\n",
      "i = 19, j = 1\n",
      "i = 19, j = 2\n",
      "i = 19, j = 3\n",
      "i = 19, j = 4\n",
      "i = 20, j = 0\n",
      "i = 20, j = 1\n",
      "i = 20, j = 2\n",
      "i = 20, j = 3\n",
      "i = 20, j = 4\n",
      "i = 21, j = 0\n",
      "i = 21, j = 1\n",
      "i = 21, j = 2\n",
      "i = 21, j = 3\n",
      "i = 21, j = 4\n",
      "i = 22, j = 0\n",
      "i = 22, j = 1\n",
      "i = 22, j = 2\n",
      "i = 22, j = 3\n",
      "i = 22, j = 4\n",
      "i = 23, j = 0\n",
      "i = 23, j = 1\n",
      "i = 23, j = 2\n",
      "i = 23, j = 3\n",
      "i = 23, j = 4\n",
      "i = 24, j = 0\n",
      "i = 24, j = 1\n",
      "i = 24, j = 2\n",
      "i = 24, j = 3\n",
      "i = 24, j = 4\n",
      "i = 25, j = 0\n",
      "i = 25, j = 1\n",
      "i = 25, j = 2\n",
      "i = 25, j = 3\n",
      "i = 25, j = 4\n",
      "i = 26, j = 0\n",
      "i = 26, j = 1\n",
      "i = 26, j = 2\n",
      "i = 26, j = 3\n",
      "i = 26, j = 4\n",
      "i = 27, j = 0\n",
      "i = 27, j = 1\n",
      "i = 27, j = 2\n",
      "i = 27, j = 3\n",
      "i = 27, j = 4\n",
      "i = 28, j = 0\n",
      "i = 28, j = 1\n",
      "i = 28, j = 2\n",
      "i = 28, j = 3\n",
      "i = 28, j = 4\n",
      "i = 29, j = 0\n",
      "i = 29, j = 1\n",
      "i = 29, j = 2\n",
      "i = 29, j = 3\n",
      "i = 29, j = 4\n",
      "i = 30, j = 0\n",
      "i = 30, j = 1\n",
      "i = 30, j = 2\n",
      "i = 30, j = 3\n",
      "i = 30, j = 4\n",
      "i = 31, j = 0\n",
      "i = 31, j = 1\n",
      "i = 31, j = 2\n",
      "i = 31, j = 3\n",
      "i = 31, j = 4\n",
      "i = 32, j = 0\n",
      "i = 32, j = 1\n",
      "i = 32, j = 2\n",
      "i = 32, j = 3\n",
      "i = 32, j = 4\n",
      "i = 33, j = 0\n",
      "i = 33, j = 1\n",
      "i = 33, j = 2\n",
      "i = 33, j = 3\n",
      "i = 33, j = 4\n",
      "i = 34, j = 0\n",
      "i = 34, j = 1\n",
      "i = 34, j = 2\n",
      "i = 34, j = 3\n",
      "i = 34, j = 4\n",
      "i = 35, j = 0\n",
      "i = 35, j = 1\n",
      "i = 35, j = 2\n",
      "i = 35, j = 3\n",
      "i = 35, j = 4\n",
      "i = 36, j = 0\n",
      "i = 36, j = 1\n",
      "i = 36, j = 2\n",
      "i = 36, j = 3\n",
      "i = 36, j = 4\n",
      "i = 37, j = 0\n",
      "i = 37, j = 1\n",
      "i = 37, j = 2\n",
      "i = 37, j = 3\n",
      "i = 37, j = 4\n",
      "i = 38, j = 0\n",
      "i = 38, j = 1\n",
      "i = 38, j = 2\n",
      "i = 38, j = 3\n",
      "i = 38, j = 4\n",
      "i = 39, j = 0\n",
      "i = 39, j = 1\n",
      "i = 39, j = 2\n",
      "i = 39, j = 3\n",
      "i = 39, j = 4\n",
      "i = 40, j = 0\n",
      "i = 40, j = 1\n",
      "i = 40, j = 2\n",
      "i = 40, j = 3\n",
      "i = 40, j = 4\n",
      "i = 41, j = 0\n",
      "i = 41, j = 1\n",
      "i = 41, j = 2\n",
      "i = 41, j = 3\n",
      "i = 41, j = 4\n",
      "i = 42, j = 0\n",
      "i = 42, j = 1\n",
      "i = 42, j = 2\n",
      "i = 42, j = 3\n",
      "i = 42, j = 4\n",
      "i = 43, j = 0\n",
      "i = 43, j = 1\n",
      "i = 43, j = 2\n",
      "i = 43, j = 3\n",
      "i = 43, j = 4\n",
      "i = 44, j = 0\n",
      "i = 44, j = 1\n",
      "i = 44, j = 2\n",
      "i = 44, j = 3\n",
      "i = 44, j = 4\n",
      "i = 45, j = 0\n",
      "i = 45, j = 1\n",
      "i = 45, j = 2\n",
      "i = 45, j = 3\n",
      "i = 45, j = 4\n",
      "i = 46, j = 0\n",
      "i = 46, j = 1\n",
      "i = 46, j = 2\n",
      "i = 46, j = 3\n",
      "i = 46, j = 4\n",
      "i = 47, j = 0\n",
      "i = 47, j = 1\n",
      "i = 47, j = 2\n",
      "i = 47, j = 3\n",
      "i = 47, j = 4\n",
      "i = 48, j = 0\n",
      "i = 48, j = 1\n",
      "i = 48, j = 2\n",
      "i = 48, j = 3\n",
      "i = 48, j = 4\n",
      "i = 49, j = 0\n",
      "i = 49, j = 1\n",
      "i = 49, j = 2\n",
      "i = 49, j = 3\n",
      "i = 49, j = 4\n",
      "i = 50, j = 0\n",
      "i = 50, j = 1\n",
      "i = 50, j = 2\n",
      "i = 50, j = 3\n",
      "i = 50, j = 4\n",
      "i = 51, j = 0\n",
      "i = 51, j = 1\n",
      "i = 51, j = 2\n",
      "i = 51, j = 3\n",
      "i = 51, j = 4\n",
      "i = 52, j = 0\n",
      "i = 52, j = 1\n",
      "i = 52, j = 2\n",
      "i = 52, j = 3\n",
      "i = 52, j = 4\n",
      "i = 53, j = 0\n",
      "i = 53, j = 1\n",
      "i = 53, j = 2\n",
      "i = 53, j = 3\n",
      "i = 53, j = 4\n",
      "i = 54, j = 0\n",
      "i = 54, j = 1\n",
      "i = 54, j = 2\n",
      "i = 54, j = 3\n",
      "i = 54, j = 4\n",
      "i = 55, j = 0\n",
      "i = 55, j = 1\n",
      "i = 55, j = 2\n",
      "i = 55, j = 3\n",
      "i = 55, j = 4\n",
      "i = 56, j = 0\n",
      "i = 56, j = 1\n",
      "i = 56, j = 2\n",
      "i = 56, j = 3\n",
      "i = 56, j = 4\n",
      "i = 57, j = 0\n",
      "i = 57, j = 1\n",
      "i = 57, j = 2\n",
      "i = 57, j = 3\n",
      "i = 57, j = 4\n",
      "i = 58, j = 0\n",
      "i = 58, j = 1\n",
      "i = 58, j = 2\n",
      "i = 58, j = 3\n",
      "i = 58, j = 4\n",
      "i = 59, j = 0\n",
      "i = 59, j = 1\n",
      "i = 59, j = 2\n",
      "i = 59, j = 3\n",
      "i = 59, j = 4\n",
      "i = 60, j = 0\n",
      "i = 60, j = 1\n",
      "i = 60, j = 2\n",
      "i = 60, j = 3\n",
      "i = 60, j = 4\n",
      "i = 61, j = 0\n",
      "i = 61, j = 1\n",
      "i = 61, j = 2\n",
      "i = 61, j = 3\n",
      "i = 61, j = 4\n",
      "i = 62, j = 0\n",
      "i = 62, j = 1\n",
      "i = 62, j = 2\n",
      "i = 62, j = 3\n",
      "i = 62, j = 4\n",
      "i = 63, j = 0\n",
      "i = 63, j = 1\n",
      "i = 63, j = 2\n",
      "i = 63, j = 3\n",
      "i = 63, j = 4\n",
      "i = 64, j = 0\n",
      "i = 64, j = 1\n",
      "i = 64, j = 2\n",
      "i = 64, j = 3\n",
      "i = 64, j = 4\n",
      "i = 65, j = 0\n",
      "i = 65, j = 1\n",
      "i = 65, j = 2\n",
      "i = 65, j = 3\n",
      "i = 65, j = 4\n",
      "i = 66, j = 0\n",
      "i = 66, j = 1\n",
      "i = 66, j = 2\n",
      "i = 66, j = 3\n",
      "i = 66, j = 4\n",
      "i = 67, j = 0\n",
      "i = 67, j = 1\n",
      "i = 67, j = 2\n",
      "i = 67, j = 3\n",
      "i = 67, j = 4\n",
      "i = 68, j = 0\n",
      "i = 68, j = 1\n",
      "i = 68, j = 2\n",
      "i = 68, j = 3\n",
      "i = 68, j = 4\n",
      "i = 69, j = 0\n",
      "i = 69, j = 1\n",
      "i = 69, j = 2\n",
      "i = 69, j = 3\n",
      "i = 69, j = 4\n",
      "i = 70, j = 0\n",
      "i = 70, j = 1\n",
      "i = 70, j = 2\n",
      "i = 70, j = 3\n",
      "i = 70, j = 4\n",
      "i = 71, j = 0\n",
      "i = 71, j = 1\n",
      "i = 71, j = 2\n",
      "i = 71, j = 3\n",
      "i = 71, j = 4\n",
      "i = 72, j = 0\n",
      "i = 72, j = 1\n",
      "i = 72, j = 2\n",
      "i = 72, j = 3\n",
      "i = 72, j = 4\n",
      "i = 73, j = 0\n",
      "i = 73, j = 1\n",
      "i = 73, j = 2\n",
      "i = 73, j = 3\n",
      "i = 73, j = 4\n",
      "i = 74, j = 0\n",
      "i = 74, j = 1\n",
      "i = 74, j = 2\n",
      "i = 74, j = 3\n",
      "i = 74, j = 4\n",
      "i = 75, j = 0\n",
      "i = 75, j = 1\n",
      "i = 75, j = 2\n",
      "i = 75, j = 3\n",
      "i = 75, j = 4\n",
      "i = 76, j = 0\n",
      "i = 76, j = 1\n",
      "i = 76, j = 2\n",
      "i = 76, j = 3\n",
      "i = 76, j = 4\n",
      "i = 77, j = 0\n",
      "i = 77, j = 1\n",
      "i = 77, j = 2\n",
      "i = 77, j = 3\n",
      "i = 77, j = 4\n",
      "i = 78, j = 0\n",
      "i = 78, j = 1\n",
      "i = 78, j = 2\n",
      "i = 78, j = 3\n",
      "i = 78, j = 4\n",
      "i = 79, j = 0\n",
      "i = 79, j = 1\n",
      "i = 79, j = 2\n",
      "i = 79, j = 3\n",
      "i = 79, j = 4\n",
      "i = 80, j = 0\n",
      "i = 80, j = 1\n",
      "i = 80, j = 2\n",
      "i = 80, j = 3\n",
      "i = 80, j = 4\n",
      "i = 81, j = 0\n",
      "i = 81, j = 1\n",
      "i = 81, j = 2\n",
      "i = 81, j = 3\n",
      "i = 81, j = 4\n",
      "i = 82, j = 0\n",
      "i = 82, j = 1\n",
      "i = 82, j = 2\n",
      "i = 82, j = 3\n",
      "i = 82, j = 4\n",
      "i = 83, j = 0\n",
      "i = 83, j = 1\n",
      "i = 83, j = 2\n",
      "i = 83, j = 3\n",
      "i = 83, j = 4\n",
      "i = 84, j = 0\n",
      "i = 84, j = 1\n",
      "i = 84, j = 2\n",
      "i = 84, j = 3\n",
      "i = 84, j = 4\n",
      "i = 85, j = 0\n",
      "i = 85, j = 1\n",
      "i = 85, j = 2\n",
      "i = 85, j = 3\n",
      "i = 85, j = 4\n",
      "i = 86, j = 0\n",
      "i = 86, j = 1\n",
      "i = 86, j = 2\n",
      "i = 86, j = 3\n",
      "i = 86, j = 4\n",
      "i = 87, j = 0\n",
      "i = 87, j = 1\n",
      "i = 87, j = 2\n",
      "i = 87, j = 3\n",
      "i = 87, j = 4\n",
      "i = 88, j = 0\n",
      "i = 88, j = 1\n",
      "i = 88, j = 2\n",
      "i = 88, j = 3\n",
      "i = 88, j = 4\n",
      "i = 89, j = 0\n",
      "i = 89, j = 1\n",
      "i = 89, j = 2\n",
      "i = 89, j = 3\n",
      "i = 89, j = 4\n",
      "i = 90, j = 0\n",
      "i = 90, j = 1\n",
      "i = 90, j = 2\n",
      "i = 90, j = 3\n",
      "i = 90, j = 4\n",
      "i = 91, j = 0\n",
      "i = 91, j = 1\n",
      "i = 91, j = 2\n",
      "i = 91, j = 3\n",
      "i = 91, j = 4\n",
      "i = 92, j = 0\n",
      "i = 92, j = 1\n",
      "i = 92, j = 2\n",
      "i = 92, j = 3\n",
      "i = 92, j = 4\n",
      "i = 93, j = 0\n",
      "i = 93, j = 1\n",
      "i = 93, j = 2\n",
      "i = 93, j = 3\n",
      "i = 93, j = 4\n",
      "i = 94, j = 0\n",
      "i = 94, j = 1\n",
      "i = 94, j = 2\n",
      "i = 94, j = 3\n",
      "i = 94, j = 4\n",
      "i = 95, j = 0\n",
      "i = 95, j = 1\n",
      "i = 95, j = 2\n",
      "i = 95, j = 3\n",
      "i = 95, j = 4\n",
      "i = 96, j = 0\n",
      "i = 96, j = 1\n",
      "i = 96, j = 2\n",
      "i = 96, j = 3\n",
      "i = 96, j = 4\n",
      "i = 97, j = 0\n",
      "i = 97, j = 1\n",
      "i = 97, j = 2\n",
      "i = 97, j = 3\n",
      "i = 97, j = 4\n",
      "i = 98, j = 0\n",
      "i = 98, j = 1\n",
      "i = 98, j = 2\n",
      "i = 98, j = 3\n",
      "i = 98, j = 4\n",
      "i = 99, j = 0\n",
      "i = 99, j = 1\n",
      "i = 99, j = 2\n",
      "i = 99, j = 3\n",
      "i = 99, j = 4\n"
     ]
    }
   ],
   "source": [
    "for i in range(100):\n",
    "    for j in range(5):\n",
    "        print(f'i = {i}, j = {j}')"
   ]
  },
  {
   "cell_type": "markdown",
   "metadata": {},
   "source": [
    "### While Loops"
   ]
  },
  {
   "cell_type": "code",
   "execution_count": 5,
   "metadata": {},
   "outputs": [],
   "source": [
    "# while keyword, condition statement \n",
    "# based on the condition statement \n"
   ]
  },
  {
   "cell_type": "markdown",
   "metadata": {},
   "source": [
    "##### Looping 'While True'"
   ]
  },
  {
   "cell_type": "code",
   "execution_count": null,
   "metadata": {},
   "outputs": [],
   "source": []
  },
  {
   "cell_type": "markdown",
   "metadata": {},
   "source": [
    "##### While & For Loops Used Together"
   ]
  },
  {
   "cell_type": "code",
   "execution_count": null,
   "metadata": {},
   "outputs": [],
   "source": []
  },
  {
   "cell_type": "markdown",
   "metadata": {},
   "source": [
    "### Built-In Functions"
   ]
  },
  {
   "cell_type": "markdown",
   "metadata": {},
   "source": [
    "##### range()"
   ]
  },
  {
   "cell_type": "code",
   "execution_count": 6,
   "metadata": {},
   "outputs": [],
   "source": [
    "#Start, Stop, Step \n"
   ]
  },
  {
   "cell_type": "markdown",
   "metadata": {},
   "source": [
    "##### len()"
   ]
  },
  {
   "cell_type": "code",
   "execution_count": 7,
   "metadata": {},
   "outputs": [],
   "source": [
    "# check length of variable \n"
   ]
  },
  {
   "cell_type": "markdown",
   "metadata": {},
   "source": [
    "##### help()"
   ]
  },
  {
   "cell_type": "code",
   "execution_count": 8,
   "metadata": {},
   "outputs": [],
   "source": [
    "# use this function to view more info about.a python function (With a DOCSTRING) \n"
   ]
  },
  {
   "cell_type": "markdown",
   "metadata": {},
   "source": [
    "##### isinstance()"
   ]
  },
  {
   "cell_type": "code",
   "execution_count": 9,
   "metadata": {},
   "outputs": [],
   "source": [
    "#Check for a variable to find out what Object family it belongs to \n",
    "# isinstance(var, type) \n"
   ]
  },
  {
   "cell_type": "markdown",
   "metadata": {},
   "source": [
    "##### abs()"
   ]
  },
  {
   "cell_type": "code",
   "execution_count": 10,
   "metadata": {},
   "outputs": [],
   "source": [
    "# | 5 | - distance from zero\n"
   ]
  },
  {
   "cell_type": "markdown",
   "metadata": {},
   "source": [
    "### Try and Except"
   ]
  },
  {
   "cell_type": "code",
   "execution_count": 11,
   "metadata": {
    "scrolled": true
   },
   "outputs": [],
   "source": [
    "# use whenever you expect to encounter a bug so that the error doesn't cause the program to stop\n",
    "# Use so that you can log out graceful and useful error messages\n",
    "\n"
   ]
  },
  {
   "cell_type": "markdown",
   "metadata": {},
   "source": [
    "### Lists"
   ]
  },
  {
   "cell_type": "markdown",
   "metadata": {},
   "source": [
    "##### Declaring Lists"
   ]
  },
  {
   "cell_type": "code",
   "execution_count": null,
   "metadata": {},
   "outputs": [],
   "source": []
  },
  {
   "cell_type": "markdown",
   "metadata": {},
   "source": [
    "##### Indexing a List"
   ]
  },
  {
   "cell_type": "code",
   "execution_count": 12,
   "metadata": {},
   "outputs": [],
   "source": [
    "# [start: stop: step] -- [-1]\n",
    "\n",
    "# Single Index \n",
    "\n",
    "\n",
    "# print starting at 1 going to the end\n",
    "\n",
    "\n",
    "# Print starting at the beginning of list to the second index(NOT including)\n",
    "\n",
    "\n",
    "# Print starting at index 1 going up by 2 in each iteration\n",
    "\n",
    "\n",
    "#Print starting at the back and present in reverse order\n"
   ]
  },
  {
   "cell_type": "markdown",
   "metadata": {},
   "source": [
    "##### .append()"
   ]
  },
  {
   "cell_type": "code",
   "execution_count": 13,
   "metadata": {},
   "outputs": [],
   "source": [
    "# Add to the back of list\n"
   ]
  },
  {
   "cell_type": "markdown",
   "metadata": {},
   "source": [
    "##### .insert()"
   ]
  },
  {
   "cell_type": "code",
   "execution_count": 14,
   "metadata": {},
   "outputs": [],
   "source": [
    "#  list.insert(index,value)\n"
   ]
  },
  {
   "cell_type": "markdown",
   "metadata": {},
   "source": [
    "##### .pop()"
   ]
  },
  {
   "cell_type": "code",
   "execution_count": 15,
   "metadata": {},
   "outputs": [],
   "source": [
    "# default is the last value if no parameter is given\n",
    "# pop returns the element that was removed in case you want to assign it into a variable\n"
   ]
  },
  {
   "cell_type": "markdown",
   "metadata": {},
   "source": [
    "\n",
    "##### .remove()"
   ]
  },
  {
   "cell_type": "code",
   "execution_count": 16,
   "metadata": {},
   "outputs": [],
   "source": [
    "# value to be removed, not index\n"
   ]
  },
  {
   "cell_type": "markdown",
   "metadata": {},
   "source": [
    "##### del()"
   ]
  },
  {
   "cell_type": "code",
   "execution_count": 17,
   "metadata": {},
   "outputs": [],
   "source": [
    "# index to be removed, not value\n",
    "# BE CAREFUL with del, can cause indexing errors if not used carefully\n"
   ]
  },
  {
   "cell_type": "markdown",
   "metadata": {},
   "source": [
    "##### Concatenating Two Lists"
   ]
  },
  {
   "cell_type": "code",
   "execution_count": 18,
   "metadata": {},
   "outputs": [],
   "source": [
    "# will append 2 lists together, not add up the elements in each list\n"
   ]
  },
  {
   "cell_type": "markdown",
   "metadata": {},
   "source": [
    "##### Lists Within Lists"
   ]
  },
  {
   "cell_type": "code",
   "execution_count": 19,
   "metadata": {},
   "outputs": [],
   "source": [
    "# lists are able to hold any type of element, including OTHER lists themselves\n",
    "# They can also go as deep as you want, having many lists nested inside one another\n"
   ]
  },
  {
   "cell_type": "markdown",
   "metadata": {},
   "source": [
    "##### Looping Through Lists"
   ]
  },
  {
   "cell_type": "code",
   "execution_count": 20,
   "metadata": {},
   "outputs": [],
   "source": [
    "# two ways to loop through a list, one is by index, the other is by using the 'in' keyword\n",
    "\n",
    "#loop with a for loop (by index)\n",
    "\n",
    "    \n",
    "# loop with a for loop (using the 'in' keyword)\n"
   ]
  },
  {
   "cell_type": "markdown",
   "metadata": {},
   "source": [
    "## Exercise #1 <br>\n",
    "<p>Cube Number Test... Print out all cubed numbers up to the total value 1000, so if the cubed number is over 1000 break the loop.</p>"
   ]
  },
  {
   "cell_type": "code",
   "execution_count": 1,
   "metadata": {
    "scrolled": false
   },
   "outputs": [
    {
     "name": "stdout",
     "output_type": "stream",
     "text": [
      "1\n",
      "8\n",
      "27\n",
      "64\n",
      "125\n",
      "216\n",
      "343\n",
      "512\n",
      "729\n",
      "1000\n"
     ]
    }
   ],
   "source": [
    "for i in range(1,1001):\n",
    "    if i**3<=1000:\n",
    "        print(i**3)"
   ]
  },
  {
   "cell_type": "markdown",
   "metadata": {},
   "source": [
    "## Exercise #2 <br>\n",
    "<p>Get first prime numbers up to 100</p>"
   ]
  },
  {
   "cell_type": "code",
   "execution_count": 8,
   "metadata": {},
   "outputs": [
    {
     "name": "stdout",
     "output_type": "stream",
     "text": [
      "2\n",
      "3\n",
      "5\n",
      "7\n",
      "11\n",
      "13\n",
      "17\n",
      "19\n",
      "23\n",
      "29\n",
      "31\n",
      "37\n",
      "41\n",
      "43\n",
      "47\n",
      "53\n",
      "59\n",
      "61\n",
      "67\n",
      "71\n",
      "73\n",
      "79\n",
      "83\n",
      "89\n",
      "97\n"
     ]
    }
   ],
   "source": [
    "for i in range(2,101):\n",
    "    for j in range(2,i):\n",
    "        if i%j == 0:\n",
    "            break\n",
    "    else: print(i)"
   ]
  },
  {
   "cell_type": "markdown",
   "metadata": {},
   "source": [
    "# Exercise 3 <br>\n",
    "<p>Take in a users input for their age, if they are younger than 18 print kids, if they're 18 to 65 print adults, else print seniors</p>"
   ]
  },
  {
   "cell_type": "code",
   "execution_count": 1,
   "metadata": {},
   "outputs": [
    {
     "name": "stdout",
     "output_type": "stream",
     "text": [
      "What is your age? 29\n",
      "Adults\n"
     ]
    }
   ],
   "source": [
    "age=input('What is your age? ')\n",
    "print('Kids') if int(age)<18 else print('Adults')if int(age)<65 else print('Seniors')"
   ]
  }
 ],
 "metadata": {
  "kernelspec": {
   "display_name": "Python 3",
   "language": "python",
   "name": "python3"
  },
  "language_info": {
   "codemirror_mode": {
    "name": "ipython",
    "version": 3
   },
   "file_extension": ".py",
   "mimetype": "text/x-python",
   "name": "python",
   "nbconvert_exporter": "python",
   "pygments_lexer": "ipython3",
   "version": "3.8.8"
  }
 },
 "nbformat": 4,
 "nbformat_minor": 2
}
